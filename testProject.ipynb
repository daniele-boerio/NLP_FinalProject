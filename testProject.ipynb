{
 "cells": [
  {
   "cell_type": "code",
   "execution_count": 1,
   "metadata": {},
   "outputs": [],
   "source": [
    "import pandas as pd\n",
    "from transformers import GPT2LMHeadModel, GPT2Tokenizer\n",
    "from tensorflow.keras.preprocessing.sequence import pad_sequences\n",
    "import pickle\n",
    "import ast\n",
    "import torch\n",
    "import re"
   ]
  },
  {
   "cell_type": "code",
   "execution_count": 2,
   "metadata": {},
   "outputs": [],
   "source": [
    "# Carica il modello e il tokenizer da file\n",
    "gpt2Model = GPT2LMHeadModel.from_pretrained('ModelGPT/model_after_train')\n",
    "tokenizer = GPT2Tokenizer.from_pretrained('ModelGPT/tokenizer_after_train')\n",
    "\n",
    "# Carica la correlation matrix da file\n",
    "loaded_correlation = pd.read_pickle('ModelClassifier/rating_correlation.pkl')\n",
    "\n",
    "# Carica il tokenizer per gli ingredienti da file\n",
    "with open('ModelClassifier/tokenizer_ingredients.pkl', 'rb') as file:\n",
    "    tokenizer_ingredients = pickle.load(file)\n",
    "    \n",
    "# Carica il tokenizer per i passaggi da file\n",
    "with open('ModelClassifier/tokenizer_steps.pkl', 'rb') as file:\n",
    "    tokenizer_steps = pickle.load(file)\n",
    "    \n",
    "# Load the interaction dataset\n",
    "interaction_df = pd.read_csv('Datasets\\RAW_interactions.csv')\n",
    "\n",
    "recipes_df = pd.read_csv('Datasets\\RAW_recipes.csv')"
   ]
  },
  {
   "cell_type": "code",
   "execution_count": 3,
   "metadata": {},
   "outputs": [],
   "source": [
    "# Funzione per ottenere una ricetta per un dato rating\n",
    "def get_recipe_for_rating(df, rating):\n",
    "    # Filtra per il rating desiderato\n",
    "    filtered_df = df[df['rating'] == rating]\n",
    "    \n",
    "    # Assicurati che non ci siano rating superiori nella stessa ricetta\n",
    "    recipe_ids = filtered_df['recipe_id'].unique()\n",
    "    \n",
    "    for recipe_id in recipe_ids:\n",
    "        # Controlla che il rating massimo per questa ricetta non sia superiore al rating desiderato\n",
    "        max_rating = df[df['recipe_id'] == recipe_id]['rating'].max()\n",
    "        if max_rating <= rating:\n",
    "            return filtered_df[filtered_df['recipe_id'] == recipe_id].iloc[0]\n",
    "    \n",
    "    # Se non trovi una ricetta valida, ritorna None\n",
    "    return None"
   ]
  },
  {
   "cell_type": "code",
   "execution_count": 4,
   "metadata": {},
   "outputs": [
    {
     "name": "stdout",
     "output_type": "stream",
     "text": [
      "       id                                        ingredients  \\\n",
      "0  487707  ['zucchini', 'onion', 'red bell pepper', 'cher...   \n",
      "1  512986  ['heavy cream', 'oranges, zest of', 'cinnamon'...   \n",
      "2  224025                  ['butter', 'cornstarch', 'honey']   \n",
      "3  381108  ['potatoes', 'butter', 'flour', 'salt', 'milk'...   \n",
      "4   44394  [\"devil's food cake mix\", 'vegetable oil', 'eg...   \n",
      "5   40893  ['great northern beans', 'yellow onion', 'dice...   \n",
      "\n",
      "                                               steps  \n",
      "0  ['preheat oven to 350 degrees f if you are goi...  \n",
      "1  ['heat the cream , zest , and cinnamon in a sa...  \n",
      "2  ['melt butter in sauce pan', 'stir in cornstar...  \n",
      "3  ['in a large saucepan , melt butter and add fl...  \n",
      "4  ['blend together cake mix , oil and eggs', 'ad...  \n",
      "5  ['combine beans , onion , chilies , 1 / 2 teas...  \n"
     ]
    }
   ],
   "source": [
    "# Funzione per ottenere gli ingredienti e i passi delle ricette per un dato rating\n",
    "def get_recipe_details_for_rating(ratings_df, recipes_df, rating):\n",
    "    # Trova una ricetta che soddisfi il rating specifico\n",
    "    recipe_info = get_recipe_for_rating(ratings_df, rating)\n",
    "    \n",
    "    if recipe_info is not None:\n",
    "        recipe_id = recipe_info['recipe_id']\n",
    "        \n",
    "        # Estrai gli ingredienti e i passi dalla ricetta\n",
    "        recipe_details = recipes_df[recipes_df['id'] == recipe_id]\n",
    "        if not recipe_details.empty:\n",
    "            return recipe_details[['id', 'ingredients', 'steps']].iloc[0]\n",
    "    \n",
    "    # Se non trovi una ricetta valida, ritorna None\n",
    "    return None\n",
    "\n",
    "# Trova i dettagli delle ricette per ogni rating da 0 a 5\n",
    "recipe_details = {}\n",
    "for rating in range(6):\n",
    "    details = get_recipe_details_for_rating(interaction_df, recipes_df, rating)\n",
    "    if details is not None:\n",
    "        recipe_details[rating] = details\n",
    "\n",
    "# Converti il risultato in DataFrame per una visione migliore\n",
    "recipe_details_df = pd.DataFrame(recipe_details).T.reset_index(drop=True)\n",
    "\n",
    "print(recipe_details_df)"
   ]
  },
  {
   "cell_type": "code",
   "execution_count": 5,
   "metadata": {},
   "outputs": [],
   "source": [
    "# Funzione per pulire e trasformare la stringa in una lista\n",
    "def clean_ingredient_steps_string(ingredient_str):\n",
    "    # Rimuovere le virgolette in eccesso e trasformare la stringa in lista\n",
    "    try:\n",
    "        # Prima rimuovi eventuali spazi e virgolette non necessarie\n",
    "        ingredient_str = ingredient_str.strip(\"[]\").replace(\"'\", \"\").strip()\n",
    "\n",
    "        # Poi, separa gli ingredienti o gli steps se sono stati convertiti in una singola stringa\n",
    "        ingredients = [ing.strip() for ing in ingredient_str.split(',')]\n",
    "\n",
    "        return ingredients\n",
    "    except Exception as e:\n",
    "        print(f\"Errore nella pulizia dell'ingrediente: {e}\")\n",
    "        return []\n",
    "\n",
    "# Applicare la funzione di pulizia su tutta la colonna 'ingredients_list' e 'steps'\n",
    "recipe_details_df['ingredients_list'] = recipe_details_df['ingredients'].apply(clean_ingredient_steps_string)\n",
    "recipe_details_df['steps_list'] = recipe_details_df['steps'].apply(clean_ingredient_steps_string)"
   ]
  },
  {
   "cell_type": "code",
   "execution_count": 96,
   "metadata": {},
   "outputs": [
    {
     "name": "stdout",
     "output_type": "stream",
     "text": [
      "<class 'list'>\n",
      "<class 'list'>\n",
      "['heavy cream', 'oranges', 'zest of', 'cinnamon', 'semisweet chocolate', 'egg yolks', 'sugar', 'vanilla extract']\n",
      "['heat the cream', 'zest', 'and cinnamon in a saucepan to boiling', 'remove from the heat and let steep 2 hours', 'heat the chocolate in a small heavy pan over low heat until melted', 'continue cooking', 'stirring constantly', 'until it is \"scorched\" and thick', 'about 3 minutes', 'transfer to a large mixing bowl', 'strain the cream into another saucepan and reheat to boiling', 'whisk the egg yolks and 1 / 4 celsius sugar until combined', 'whisk about 1 cup of the hot cream into the yolks', 'then whisk into the remaining cream in the pan', 'cook', 'stirring constantly', 'over medium heat until thick enough to coat the back of a spoon', '3 to 5 minutes', 'do not boil', 'strain the custard into the chocolate and stir until smooth', 'strain again', 'place in a larger bowl filled with ice water and chill the custard well', '\"fereeze in an ice cream machine according to the manufacturers instructions\"']\n"
     ]
    }
   ],
   "source": [
    "# Verifica del risultato\n",
    "print(type(recipe_details_df['ingredients_list'][0]))  # Controllo il tipo della colonna ingredient_list\n",
    "print(type(recipe_details_df['steps_list'][0]))  # Controllo il tipo della colonna steps_list\n",
    "\n",
    "# Verifica del risultato\n",
    "print(recipe_details_df['ingredients_list'][1])  # Ora dovrebbe essere una lista di stringhe\n",
    "print(recipe_details_df['steps_list'][1])  # Ora dovrebbe essere una lista di stringhe"
   ]
  },
  {
   "cell_type": "code",
   "execution_count": 7,
   "metadata": {},
   "outputs": [],
   "source": [
    "# Tokenizzazione e padding\n",
    "new_ingredients_seq = tokenizer_ingredients.texts_to_sequences(recipe_details_df['ingredients_list'])\n",
    "new_steps_seq = tokenizer_steps.texts_to_sequences(recipe_details_df['steps_list'])\n",
    "\n",
    "#il Calcolo della lunghezza massima per gli ingredienti e i passi è già stata fatta prima nel notebook\n",
    "ingredient_maxlen = 43\n",
    "steps_maxlen = 218\n",
    "\n",
    "# Padding\n",
    "new_ingredients_padded = pad_sequences(new_ingredients_seq, maxlen=ingredient_maxlen)\n",
    "new_steps_padded = pad_sequences(new_steps_seq, maxlen=steps_maxlen)"
   ]
  },
  {
   "cell_type": "code",
   "execution_count": 8,
   "metadata": {},
   "outputs": [],
   "source": [
    "# Mappa per ingredienti e passi\n",
    "def get_feature_names(tokenizer, maxlen):\n",
    "    index_word = {index: word for word, index in tokenizer.word_index.items()}\n",
    "    return [index_word.get(i, f'unknown_{i}') for i in range(1, maxlen + 1)]\n",
    "\n",
    "new_ingredient_names = get_feature_names(tokenizer_ingredients, ingredient_maxlen)\n",
    "new_steps_names = get_feature_names(tokenizer_steps, steps_maxlen)\n",
    "\n",
    "# Creazione di DataFrame\n",
    "new_ingredients_df = pd.DataFrame(new_ingredients_padded, columns=new_ingredient_names)\n",
    "new_steps_df = pd.DataFrame(new_steps_padded, columns=new_steps_names)\n",
    "\n",
    "# Combinazione delle caratteristiche e dei rating\n",
    "new_features_df = pd.concat([new_ingredients_df, new_steps_df], axis=1)"
   ]
  },
  {
   "cell_type": "code",
   "execution_count": 9,
   "metadata": {},
   "outputs": [
    {
     "name": "stdout",
     "output_type": "stream",
     "text": [
      "0   -242645.911082\n",
      "1   -207138.169533\n",
      "2      -150.751155\n",
      "3    -77809.523383\n",
      "4    -76454.855237\n",
      "5     -7137.231904\n",
      "dtype: float64\n"
     ]
    }
   ],
   "source": [
    "# Calcolo della stima dei rating basata sulle correlazioni\n",
    "rating_estimates_real_recipes = new_features_df.dot(loaded_correlation)\n",
    "rating_estimates_real_recipes = rating_estimates_real_recipes / loaded_correlation.abs().sum()\n",
    "\n",
    "#queste sono i valori delle ricette originali secondo la correlation matrix\n",
    "print(rating_estimates_real_recipes)"
   ]
  },
  {
   "cell_type": "code",
   "execution_count": 10,
   "metadata": {},
   "outputs": [
    {
     "name": "stdout",
     "output_type": "stream",
     "text": [
      "0    zucchini, onion, red bell pepper, cherry tomat...\n",
      "1    heavy cream, oranges, zest of, cinnamon, semis...\n",
      "2                            butter, cornstarch, honey\n",
      "3    potatoes, butter, flour, salt, milk, worcester...\n",
      "4    devil's food cake mix, vegetable oil, eggs, re...\n",
      "5    great northern beans, yellow onion, diced gree...\n",
      "Name: ingredients, dtype: object\n"
     ]
    }
   ],
   "source": [
    "# Funzione per convertire la stringa della lista in una stringa separata da virgole\n",
    "def convert_ingredients_string(ingredients_str):\n",
    "    try:\n",
    "        # Convertire la stringa in una lista di ingredienti\n",
    "        ingredients_list = ast.literal_eval(ingredients_str)\n",
    "        # Unire gli ingredienti in una stringa separata da virgole\n",
    "        return ', '.join(ingredients_list)\n",
    "    except Exception as e:\n",
    "        print(f\"Errore nella conversione: {e}\")\n",
    "        return ''\n",
    "\n",
    "# Applicare la funzione alla colonna \"ingredients\"\n",
    "recipe_details_df['ingredients'] = recipe_details_df['ingredients'].apply(convert_ingredients_string)\n",
    "\n",
    "# Visualizzare il DataFrame risultante\n",
    "print(recipe_details_df['ingredients'])"
   ]
  },
  {
   "cell_type": "markdown",
   "metadata": {},
   "source": [
    "# Generazione rating variabile"
   ]
  },
  {
   "cell_type": "code",
   "execution_count": 87,
   "metadata": {},
   "outputs": [],
   "source": [
    "#cambiare questo valore [0, 5] per generare e controllare ricette con un determinato rating\n",
    "rating_test = 1"
   ]
  },
  {
   "cell_type": "code",
   "execution_count": 88,
   "metadata": {},
   "outputs": [
    {
     "name": "stdout",
     "output_type": "stream",
     "text": [
      "Generated Recipe 1:\n",
      "Ingredients: heavy cream, oranges, zest of, cinnamon, semisweet chocolate, egg yolks, sugar, vanilla extract. Steps: 1. heat the cream over medium-high heat in a saucepan. 2. add the orange zest, the cinnamon, and the chopped chocolate and stir until the zest is absorbed. 3. add the egg yolks, sugar, and the vanilla. 4. whisk until very well combined. 5. bring to a simmer and continue stirring frequently until thickened. 6. serve warm or cold, garnished with cinnamon sticks if desired. 7. can be made up to 8 hours\n",
      "\n",
      "Generated Recipe 2:\n",
      "Ingredients: heavy cream, oranges, zest of, cinnamon, semisweet chocolate, egg yolks, sugar, vanilla extract. Steps: 1. heat the cream until it just starts to boil, then lower the temperature and cook for 15 minutes, stirring occasionally. 2. remove from the heat and stir in the orange zest, cinnamon, and semisweet chocolate pieces. 3. cool to room temperature. 4. place a small bowl filled with ice cubes in your freezer. 5. in another large bowl, whisk together the egg yolks, sugar, and vanilla extract. 6. beat vigorously with an electric mixer on high\n",
      "\n",
      "Generated Recipe 3:\n",
      "Ingredients: heavy cream, oranges, zest of, cinnamon, semisweet chocolate, egg yolks, sugar, vanilla extract. Steps: 1. place heavy cream, orange zest and cinnamon in a medium saucepan and bring to a boil. 2. reduce heat and simmer until thickened, about 20 minutes. 3. remove from the heat and stir in the chocolate. 4. cool slightly and stir into remaining ingredients. 5. cover and refrigerate until firm, about 2 hours or overnight before serving. 6. serve cold with vanilla ice cream or whipped cream. 7. makes 2 cups. 8. i have added chocolate curls\n",
      "\n",
      "Generated Recipe 4:\n",
      "Ingredients: heavy cream, oranges, zest of, cinnamon, semisweet chocolate, egg yolks, sugar, vanilla extract. Steps: 1. to make the sauce: put all ingredients in a small saucepan and bring to a boil over medium heat, stirring occasionally. 2. reduce heat and simmer until thickened, about 5 minutes. 3. to assemble the cake: spoon 2 tablespoons of the sauce into a small bowl, set aside and let cool to room temperature. 4. lightly beat the egg whites and cream in another large bowl. 5. with an electric mixer on high speed, whip the egg yolks until very\n",
      "\n",
      "Generated Recipe 5:\n",
      "Ingredients: heavy cream, oranges, zest of, cinnamon, semisweet chocolate, egg yolks, sugar, vanilla extract. Steps: 1. preheat the oven to 300 degrees f. 2. combine all ingredients and beat with a whisk until thick, about 3 minutes. 3. place the mixture in an ice-cream maker. 4. freeze according to manufacturer's instructions. 5. serve at room temperature or chilled. 6. makes 12 servings. 7. to make hot cocoa: heat whipping cream in a double boiler over simmering water. 8. add chocolate pieces, stirring constantly until melted. 9. remove from heat and\n",
      "\n"
     ]
    }
   ],
   "source": [
    "#max_new_tokens: numero massimo di nuovi token da generare\n",
    "#temperature: Controlla la casualità delle previsioni. Un valore più basso rende il testo più deterministico, mentre un valore più alto lo rende più vario.\n",
    "#top_k: Limita le scelte del modello ai k migliori risultati (per migliorare la qualità delle generazioni).\n",
    "#top_p: Percentuale cumulativa di probabilità considerata per la scelta dei token. un valore alto aumenta la varietà e creatività includendo però i token meno probabili e viceversa\n",
    "\n",
    "\n",
    "def generate_recipe(prompt, max_new_tokens=100, temperature=0.8, top_k=50, top_p=0.9):\n",
    "    input_text = f\"Ingredients: {prompt}. Steps:\"\n",
    "    input_ids = tokenizer.encode(input_text, return_tensors='pt')\n",
    "\n",
    "    sample_output = gpt2Model.generate(\n",
    "        input_ids,\n",
    "        max_new_tokens=max_new_tokens,\n",
    "        temperature=temperature,\n",
    "        top_k=top_k,\n",
    "        top_p=top_p,\n",
    "        do_sample=True,\n",
    "        repetition_penalty=1.2,\n",
    "        pad_token_id=tokenizer.eos_token_id,\n",
    "        attention_mask=torch.ones_like(input_ids)\n",
    "    )\n",
    "\n",
    "    generated_text = tokenizer.decode(sample_output[0], skip_special_tokens=True)\n",
    "    generated_text = \" \".join(generated_text.split()).strip()  # Rimuovi spazi extra\n",
    "\n",
    "    return generated_text\n",
    "\n",
    "# Genera 5 ricette chiamando la funzione 5 volte\n",
    "prompt = recipe_details_df['ingredients'][rating_test]\n",
    "generated_recipes = [generate_recipe(prompt) for _ in range(5)]\n",
    "\n",
    "# Stampa le ricette generate\n",
    "for i, recipe in enumerate(generated_recipes, 1):\n",
    "    print(f\"Generated Recipe {i}:\\n{recipe}\\n\")"
   ]
  },
  {
   "cell_type": "code",
   "execution_count": 89,
   "metadata": {},
   "outputs": [
    {
     "name": "stdout",
     "output_type": "stream",
     "text": [
      "All Ingredients Lists: [['heavy cream', 'oranges', 'zest of', 'cinnamon', 'semisweet chocolate', 'egg yolks', 'sugar', 'vanilla extract'], ['heavy cream', 'oranges', 'zest of', 'cinnamon', 'semisweet chocolate', 'egg yolks', 'sugar', 'vanilla extract'], ['heavy cream', 'oranges', 'zest of', 'cinnamon', 'semisweet chocolate', 'egg yolks', 'sugar', 'vanilla extract'], ['heavy cream', 'oranges', 'zest of', 'cinnamon', 'semisweet chocolate', 'egg yolks', 'sugar', 'vanilla extract'], ['heavy cream', 'oranges', 'zest of', 'cinnamon', 'semisweet chocolate', 'egg yolks', 'sugar', 'vanilla extract']]\n",
      "All Steps Lists: [['heat the cream over medium-high heat in a saucepan.', 'add the orange zest, the cinnamon, and the chopped chocolate and stir until the zest is absorbed.', 'add the egg yolks, sugar, and the vanilla.', 'whisk until very well combined.', 'bring to a simmer and continue stirring frequently until thickened.', 'serve warm or cold, garnished with cinnamon sticks if desired.', 'can be made up to 8 hours'], ['heat the cream until it just starts to boil, then lower the temperature and cook for 15 minutes, stirring occasionally.', 'remove from the heat and stir in the orange zest, cinnamon, and semisweet chocolate pieces.', 'cool to room temperature.', 'place a small bowl filled with ice cubes in your freezer.', 'in another large bowl, whisk together the egg yolks, sugar, and vanilla extract.', 'beat vigorously with an electric mixer on high'], ['place heavy cream, orange zest and cinnamon in a medium saucepan and bring to a boil.', 'reduce heat and simmer until thickened, about 20 minutes.', 'remove from the heat and stir in the chocolate.', 'cool slightly and stir into remaining ingredients.', 'cover and refrigerate until firm, about 2 hours or overnight before serving.', 'serve cold with vanilla ice cream or whipped cream.', 'makes 2 cups.', 'i have added chocolate curls'], ['to make the sauce: put all ingredients in a small saucepan and bring to a boil over medium heat, stirring occasionally.', 'reduce heat and simmer until thickened, about 5 minutes.', 'to assemble the cake: spoon 2 tablespoons of the sauce into a small bowl, set aside and let cool to room temperature.', 'lightly beat the egg whites and cream in another large bowl.', 'with an electric mixer on high speed, whip the egg yolks until very'], ['preheat the oven to 300 degrees f.', 'combine all ingredients and beat with a whisk until thick, about 3 minutes.', 'place the mixture in an ice-cream maker.', \"freeze according to manufacturer's instructions.\", 'serve at room temperature or chilled.', 'makes 12 servings.', 'to make hot cocoa: heat whipping cream in a double boiler over simmering water.', 'add chocolate pieces, stirring constantly until melted.', 'remove from heat and']]\n"
     ]
    }
   ],
   "source": [
    "#funzione per estrarre dalle ricette generate gli ingredienti e gli steps\n",
    "def extract_ingredients_and_steps_from_recipes(recipes):\n",
    "    all_ingredients_lists = []\n",
    "    all_steps_lists = []\n",
    "\n",
    "    for text in recipes:\n",
    "        # Separare la sezione degli ingredienti e degli steps\n",
    "        ingredients_section = re.search(r'Ingredients: (.+?)\\. Steps:', text)\n",
    "        steps_section = re.search(r'Steps: (.+)', text)\n",
    "\n",
    "        if ingredients_section:\n",
    "            ingredients_text = ingredients_section.group(1).strip()\n",
    "            # Convertire gli ingredienti in una lista di stringhe\n",
    "            ingredients_list = [ingredient.strip() for ingredient in ingredients_text.split(',') if ingredient.strip()]\n",
    "            all_ingredients_lists.append(ingredients_list)\n",
    "        else:\n",
    "            all_ingredients_lists.append([])\n",
    "\n",
    "        if steps_section:\n",
    "            steps_text = steps_section.group(1).strip()\n",
    "            # Separare gli steps e rimuovere numeri e punti\n",
    "            steps_raw = re.split(r'\\d+\\.\\s*', steps_text)  # Usa regex per separare usando numeri e punto\n",
    "            # Filtrare e pulire gli steps\n",
    "            steps_list = [step.strip() for step in steps_raw if step.strip()]\n",
    "            all_steps_lists.append(steps_list)\n",
    "        else:\n",
    "            all_steps_lists.append([])\n",
    "\n",
    "    return all_ingredients_lists, all_steps_lists\n",
    "\n",
    "all_ingredients_lists, all_steps_lists = extract_ingredients_and_steps_from_recipes(generated_recipes)\n",
    "\n",
    "print(\"All Ingredients Lists:\", all_ingredients_lists)\n",
    "print(\"All Steps Lists:\", all_steps_lists)"
   ]
  },
  {
   "cell_type": "code",
   "execution_count": 90,
   "metadata": {},
   "outputs": [
    {
     "name": "stdout",
     "output_type": "stream",
     "text": [
      "Recipe 1 Steps: ['heat the cream over medium-high heat in a saucepan', 'add the orange zest, the cinnamon, and the chopped chocolate and stir until the zest is absorbed', 'add the egg yolks, sugar, and the vanilla', 'whisk until very well combined', 'bring to a simmer and continue stirring frequently until thickened', 'serve warm or cold, garnished with cinnamon sticks if desired', 'can be made up to 8 hours']\n",
      "Recipe 2 Steps: ['heat the cream until it just starts to boil, then lower the temperature and cook for 15 minutes, stirring occasionally', 'remove from the heat and stir in the orange zest, cinnamon, and semisweet chocolate pieces', 'cool to room temperature', 'place a small bowl filled with ice cubes in your freezer', 'in another large bowl, whisk together the egg yolks, sugar, and vanilla extract', 'beat vigorously with an electric mixer on high']\n",
      "Recipe 3 Steps: ['place heavy cream, orange zest and cinnamon in a medium saucepan and bring to a boil', 'reduce heat and simmer until thickened, about 20 minutes', 'remove from the heat and stir in the chocolate', 'cool slightly and stir into remaining ingredients', 'cover and refrigerate until firm, about 2 hours or overnight before serving', 'serve cold with vanilla ice cream or whipped cream', 'makes 2 cups', 'i have added chocolate curls']\n",
      "Recipe 4 Steps: ['to make the sauce: put all ingredients in a small saucepan and bring to a boil over medium heat, stirring occasionally', 'reduce heat and simmer until thickened, about 5 minutes', 'to assemble the cake: spoon 2 tablespoons of the sauce into a small bowl, set aside and let cool to room temperature', 'lightly beat the egg whites and cream in another large bowl', 'with an electric mixer on high speed, whip the egg yolks until very']\n",
      "Recipe 5 Steps: ['preheat the oven to 300 degrees f', 'combine all ingredients and beat with a whisk until thick, about 3 minutes', 'place the mixture in an ice-cream maker', \"freeze according to manufacturer's instructions\", 'serve at room temperature or chilled', 'makes 12 servings', 'to make hot cocoa: heat whipping cream in a double boiler over simmering water', 'add chocolate pieces, stirring constantly until melted', 'remove from heat and']\n"
     ]
    }
   ],
   "source": [
    "#rimuove i punti finali negli steps per poterli tokenizzare e usare dopo\n",
    "def remove_trailing_periods_from_steps(nested_steps_list):\n",
    "    if not all(isinstance(sublist, list) for sublist in nested_steps_list) or \\\n",
    "       not all(isinstance(step, str) for sublist in nested_steps_list for step in sublist):\n",
    "        raise ValueError(\"La lista deve essere una lista di liste di stringhe.\")\n",
    "\n",
    "    # Applica la pulizia a ciascuna sotto-lista\n",
    "    cleaned_nested_list = [\n",
    "        [step.strip().rstrip('.') for step in sublist]\n",
    "        for sublist in nested_steps_list\n",
    "    ]\n",
    "\n",
    "    return cleaned_nested_list\n",
    "# Rimuovi i punti finali\n",
    "cleaned_all_steps_lists = remove_trailing_periods_from_steps(all_steps_lists)\n",
    "\n",
    "# Stampa il risultato\n",
    "for i, steps in enumerate(cleaned_all_steps_lists, 1):\n",
    "    print(f\"Recipe {i} Steps: {steps}\")"
   ]
  },
  {
   "cell_type": "code",
   "execution_count": 91,
   "metadata": {},
   "outputs": [],
   "source": [
    "# Tokenizzazione e padding\n",
    "new_ingredients_seq = tokenizer_ingredients.texts_to_sequences(all_ingredients_lists)\n",
    "new_steps_seq = tokenizer_steps.texts_to_sequences(cleaned_all_steps_lists)\n",
    "\n",
    "#il Calcolo della lunghezza massima per gli ingredienti e i passi è già stata fatta prima nel notebook\n",
    "ingredient_maxlen = 43\n",
    "steps_maxlen = 218\n",
    "\n",
    "# Padding\n",
    "new_ingredients_padded = pad_sequences(new_ingredients_seq, maxlen=ingredient_maxlen)\n",
    "new_steps_padded = pad_sequences(new_steps_seq, maxlen=steps_maxlen)"
   ]
  },
  {
   "cell_type": "code",
   "execution_count": 92,
   "metadata": {},
   "outputs": [],
   "source": [
    "# Mappa per ingredienti e passi\n",
    "def get_feature_names(tokenizer, maxlen):\n",
    "    index_word = {index: word for word, index in tokenizer.word_index.items()}\n",
    "    return [index_word.get(i, f'unknown_{i}') for i in range(1, maxlen + 1)]\n",
    "\n",
    "new_ingredient_names = get_feature_names(tokenizer_ingredients, ingredient_maxlen)\n",
    "new_steps_names = get_feature_names(tokenizer_steps, steps_maxlen)\n",
    "\n",
    "# Creazione di DataFrame\n",
    "new_ingredients_df = pd.DataFrame(new_ingredients_padded, columns=new_ingredient_names)\n",
    "new_steps_df = pd.DataFrame(new_steps_padded, columns=new_steps_names)\n",
    "\n",
    "# Combinazione delle caratteristiche e dei rating\n",
    "new_features_df = pd.concat([new_ingredients_df, new_steps_df], axis=1)"
   ]
  },
  {
   "cell_type": "code",
   "execution_count": 93,
   "metadata": {},
   "outputs": [
    {
     "name": "stdout",
     "output_type": "stream",
     "text": [
      "0       -1.011367\n",
      "1       -9.101329\n",
      "2   -21987.154177\n",
      "3       -1.011367\n",
      "4   -12051.446443\n",
      "dtype: float64\n"
     ]
    }
   ],
   "source": [
    "# Calcolo della stima dei rating basata sulle correlazioni\n",
    "rating_estimates = new_features_df.dot(loaded_correlation)\n",
    "rating_estimates = rating_estimates / loaded_correlation.abs().sum()\n",
    "\n",
    "print(rating_estimates)"
   ]
  },
  {
   "cell_type": "code",
   "execution_count": 94,
   "metadata": {},
   "outputs": [
    {
     "name": "stdout",
     "output_type": "stream",
     "text": [
      "L'indice del valore massimo è: 0\n",
      "Ingredients: heavy cream, oranges, zest of, cinnamon, semisweet chocolate, egg yolks, sugar, vanilla extract. Steps: 1. heat the cream over medium-high heat in a saucepan. 2. add the orange zest, the cinnamon, and the chopped chocolate and stir until the zest is absorbed. 3. add the egg yolks, sugar, and the vanilla. 4. whisk until very well combined. 5. bring to a simmer and continue stirring frequently until thickened. 6. serve warm or cold, garnished with cinnamon sticks if desired. 7. can be made up to 8 hours\n"
     ]
    }
   ],
   "source": [
    "# Trova l'indice del valore massimo\n",
    "max_index = rating_estimates.idxmax()\n",
    "\n",
    "print(f\"L'indice del valore massimo è: {max_index}\")\n",
    "#ricetta con valore massimo usando la correlation matrix\n",
    "print(generated_recipes[max_index])"
   ]
  },
  {
   "cell_type": "code",
   "execution_count": 95,
   "metadata": {},
   "outputs": [
    {
     "name": "stdout",
     "output_type": "stream",
     "text": [
      "Valore della ricetta originale:  -207138.169533192\n",
      "Valore della ricetta generata:  -1.0113673860488306\n"
     ]
    }
   ],
   "source": [
    "print(f\"Valore della ricetta originale:  {rating_estimates_real_recipes[rating_test]}\")\n",
    "print(f\"Valore della ricetta generata:  {rating_estimates[max_index]}\")"
   ]
  }
 ],
 "metadata": {
  "kernelspec": {
   "display_name": "Python 3",
   "language": "python",
   "name": "python3"
  },
  "language_info": {
   "codemirror_mode": {
    "name": "ipython",
    "version": 3
   },
   "file_extension": ".py",
   "mimetype": "text/x-python",
   "name": "python",
   "nbconvert_exporter": "python",
   "pygments_lexer": "ipython3",
   "version": "3.10.8"
  }
 },
 "nbformat": 4,
 "nbformat_minor": 2
}
